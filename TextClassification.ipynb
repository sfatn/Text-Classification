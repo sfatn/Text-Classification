{
 "cells": [
  {
   "cell_type": "code",
   "execution_count": 12,
   "id": "577ea288",
   "metadata": {},
   "outputs": [],
   "source": [
    "#Load libraries\n",
    "import numpy as np\n",
    "import pandas as pd\n",
    "import matplotlib.pyplot as plt\n",
    "import seaborn as sns\n",
    "import time\n",
    "import sklearn \n",
    "%matplotlib inline\n",
    "\n",
    "from sklearn.model_selection import train_test_split, GridSearchCV\n",
    "from sklearn.preprocessing import LabelEncoder\n",
    "from sklearn.preprocessing import StandardScaler\n",
    "from sklearn.metrics import accuracy_score, precision_score, recall_score, confusion_matrix, classification_report, f1_score, roc_auc_score\n",
    "from sklearn.neighbors import KNeighborsClassifier\n",
    "from sklearn.neural_network import MLPClassifier"
   ]
  },
  {
   "cell_type": "code",
   "execution_count": 13,
   "id": "07ec133a",
   "metadata": {},
   "outputs": [],
   "source": [
    "# Load dataset from csv file\n",
    "\n",
    "data = pd.read_csv(\"letters.csv\")"
   ]
  },
  {
   "cell_type": "code",
   "execution_count": 14,
   "id": "038f62db",
   "metadata": {},
   "outputs": [
    {
     "name": "stdout",
     "output_type": "stream",
     "text": [
      "(42000, 46)\n",
      "label       int64\n",
      "pixel43     int64\n",
      "pixel44     int64\n",
      "pixel92     int64\n",
      "pixel124    int64\n",
      "pixel125    int64\n",
      "pixel126    int64\n",
      "pixel127    int64\n",
      "pixel128    int64\n",
      "pixel129    int64\n",
      "pixel130    int64\n",
      "pixel131    int64\n",
      "pixel132    int64\n",
      "pixel133    int64\n",
      "pixel134    int64\n",
      "pixel135    int64\n",
      "pixel136    int64\n",
      "pixel137    int64\n",
      "pixel138    int64\n",
      "pixel146    int64\n",
      "pixel147    int64\n",
      "pixel148    int64\n",
      "pixel149    int64\n",
      "pixel150    int64\n",
      "pixel151    int64\n",
      "pixel152    int64\n",
      "pixel153    int64\n",
      "pixel154    int64\n",
      "pixel155    int64\n",
      "pixel156    int64\n",
      "pixel157    int64\n",
      "pixel158    int64\n",
      "pixel159    int64\n",
      "pixel160    int64\n",
      "pixel327    int64\n",
      "pixel328    int64\n",
      "pixel329    int64\n",
      "pixel351    int64\n",
      "pixel410    int64\n",
      "pixel411    int64\n",
      "pixel412    int64\n",
      "pixel413    int64\n",
      "pixel414    int64\n",
      "pixel415    int64\n",
      "pixel416    int64\n",
      "pixel417    int64\n",
      "dtype: object\n"
     ]
    }
   ],
   "source": [
    "# Understand dataset structure\n",
    "\n",
    "print(data.shape)\n",
    "print(data.dtypes)"
   ]
  },
  {
   "cell_type": "code",
   "execution_count": 15,
   "id": "4732697d",
   "metadata": {},
   "outputs": [
    {
     "data": {
      "text/plain": [
       "label       0\n",
       "pixel43     0\n",
       "pixel44     0\n",
       "pixel92     0\n",
       "pixel124    0\n",
       "pixel125    0\n",
       "pixel126    0\n",
       "pixel127    0\n",
       "pixel128    0\n",
       "pixel129    0\n",
       "pixel130    0\n",
       "pixel131    0\n",
       "pixel132    0\n",
       "pixel133    0\n",
       "pixel134    0\n",
       "pixel135    0\n",
       "pixel136    0\n",
       "pixel137    0\n",
       "pixel138    0\n",
       "pixel146    0\n",
       "pixel147    0\n",
       "pixel148    0\n",
       "pixel149    0\n",
       "pixel150    0\n",
       "pixel151    0\n",
       "pixel152    0\n",
       "pixel153    0\n",
       "pixel154    0\n",
       "pixel155    0\n",
       "pixel156    0\n",
       "pixel157    0\n",
       "pixel158    0\n",
       "pixel159    0\n",
       "pixel160    0\n",
       "pixel327    0\n",
       "pixel328    0\n",
       "pixel329    0\n",
       "pixel351    0\n",
       "pixel410    0\n",
       "pixel411    0\n",
       "pixel412    0\n",
       "pixel413    0\n",
       "pixel414    0\n",
       "pixel415    0\n",
       "pixel416    0\n",
       "pixel417    0\n",
       "dtype: int64"
      ]
     },
     "execution_count": 15,
     "metadata": {},
     "output_type": "execute_result"
    }
   ],
   "source": [
    "# Check for missing values in the dataset\n",
    "data.isna().sum()"
   ]
  },
  {
   "cell_type": "code",
   "execution_count": 16,
   "id": "ec37716c",
   "metadata": {},
   "outputs": [],
   "source": [
    "# Creating test and train datasets\n",
    "# Taking 'Total Property Value' as the target variable and 'X' are the features\n",
    "X = data.drop('label', axis=1)\n",
    "y = data['label']\n",
    "\n",
    "# Split the dataset into training and testing sets\n",
    "X_train, X_test, y_train, y_test = train_test_split(X, y, test_size=0.2, random_state=42)"
   ]
  },
  {
   "cell_type": "code",
   "execution_count": 17,
   "id": "6217941a",
   "metadata": {},
   "outputs": [],
   "source": [
    "# Standardize the features\n",
    "scaler = StandardScaler()\n",
    "X_train_scaled = scaler.fit_transform(X_train)\n",
    "X_test_scaled = scaler.transform(X_test)"
   ]
  },
  {
   "cell_type": "code",
   "execution_count": 18,
   "id": "2860f958",
   "metadata": {},
   "outputs": [
    {
     "name": "stdout",
     "output_type": "stream",
     "text": [
      "Best Parameters (Grid Search): {'n_neighbors': 10}\n",
      "Best Accuracy (Grid Search): 0.6467857142857143\n"
     ]
    }
   ],
   "source": [
    "# Create KNN classifier\n",
    "knn = KNeighborsClassifier()\n",
    "\n",
    "# Performing a grid search to choose the best n-neighbors value\n",
    "param_grid = {'n_neighbors': [1, 3, 5, 7, 10, 15, 20]}\n",
    "\n",
    "# Cross-validation\n",
    "grid_search_cv = GridSearchCV(knn, param_grid, cv=5)\n",
    "\n",
    "# Fit to training data\n",
    "grid_search_cv.fit(X_train_scaled, y_train)\n",
    "\n",
    "# Print the best parameters and corresponding accuracy\n",
    "print(\"Best Parameters (Grid Search):\", grid_search_cv.best_params_)\n",
    "print(\"Best Accuracy (Grid Search):\", grid_search_cv.best_score_)"
   ]
  },
  {
   "cell_type": "code",
   "execution_count": 30,
   "id": "3de42a61",
   "metadata": {},
   "outputs": [],
   "source": [
    "# Build a KNN model\n",
    "knn_model = KNeighborsClassifier(n_neighbors=10)\n",
    "knn_model.fit(X_train_scaled, y_train)\n",
    "\n",
    "# Make predictions on the test set\n",
    "y_pred_knn = knn_model.predict(X_test_scaled)"
   ]
  },
  {
   "cell_type": "code",
   "execution_count": 31,
   "id": "c0f2f598",
   "metadata": {},
   "outputs": [
    {
     "name": "stdout",
     "output_type": "stream",
     "text": [
      "KNN Accuracy: 0.6572619047619047\n",
      "KNN Classification Report:\n",
      "              precision    recall  f1-score   support\n",
      "\n",
      "           0       0.81      0.89      0.85       861\n",
      "           1       0.77      0.96      0.85       971\n",
      "           2       0.66      0.63      0.64       817\n",
      "           3       0.59      0.54      0.57       834\n",
      "           4       0.66      0.51      0.58       802\n",
      "           5       0.66      0.54      0.60       744\n",
      "           6       0.83      0.85      0.84       821\n",
      "           7       0.48      0.62      0.54       914\n",
      "           8       0.62      0.50      0.55       789\n",
      "           9       0.48      0.46      0.47       847\n",
      "\n",
      "    accuracy                           0.66      8400\n",
      "   macro avg       0.66      0.65      0.65      8400\n",
      "weighted avg       0.66      0.66      0.65      8400\n",
      "\n"
     ]
    }
   ],
   "source": [
    "# Evaluate KNN model\n",
    "accuracy_knn = accuracy_score(y_test, y_pred_knn)\n",
    "print(f'KNN Accuracy: {accuracy_knn}')\n",
    "print('KNN Classification Report:')\n",
    "print(classification_report(y_test, y_pred_knn))"
   ]
  },
  {
   "cell_type": "code",
   "execution_count": 33,
   "id": "a7e5c3cf",
   "metadata": {
    "scrolled": false
   },
   "outputs": [
    {
     "name": "stdout",
     "output_type": "stream",
     "text": [
      "Neural Network with Tanh Activation Accuracy: 0.695\n",
      "Neural Network with Tanh Activation Classification Report:\n",
      "              precision    recall  f1-score   support\n",
      "\n",
      "           0       0.87      0.87      0.87       861\n",
      "           1       0.86      0.94      0.90       971\n",
      "           2       0.70      0.65      0.67       817\n",
      "           3       0.65      0.57      0.61       834\n",
      "           4       0.78      0.56      0.65       802\n",
      "           5       0.62      0.67      0.64       744\n",
      "           6       0.86      0.88      0.87       821\n",
      "           7       0.51      0.67      0.58       914\n",
      "           8       0.62      0.59      0.61       789\n",
      "           9       0.50      0.49      0.50       847\n",
      "\n",
      "    accuracy                           0.69      8400\n",
      "   macro avg       0.70      0.69      0.69      8400\n",
      "weighted avg       0.70      0.69      0.69      8400\n",
      "\n",
      "Neural Network with Logistic Activation Accuracy: 0.6892857142857143\n",
      "Neural Network with Logistic Activation Classification Report:\n",
      "              precision    recall  f1-score   support\n",
      "\n",
      "           0       0.86      0.86      0.86       861\n",
      "           1       0.87      0.94      0.90       971\n",
      "           2       0.73      0.66      0.69       817\n",
      "           3       0.65      0.53      0.59       834\n",
      "           4       0.71      0.57      0.63       802\n",
      "           5       0.61      0.68      0.64       744\n",
      "           6       0.87      0.88      0.87       821\n",
      "           7       0.52      0.66      0.58       914\n",
      "           8       0.60      0.59      0.59       789\n",
      "           9       0.50      0.49      0.49       847\n",
      "\n",
      "    accuracy                           0.69      8400\n",
      "   macro avg       0.69      0.68      0.68      8400\n",
      "weighted avg       0.69      0.69      0.69      8400\n",
      "\n",
      "Neural Network with Relu Activation Accuracy: 0.6951190476190476\n",
      "Neural Network with Relu Activation Classification Report:\n",
      "              precision    recall  f1-score   support\n",
      "\n",
      "           0       0.85      0.87      0.86       861\n",
      "           1       0.84      0.95      0.89       971\n",
      "           2       0.74      0.67      0.70       817\n",
      "           3       0.68      0.57      0.62       834\n",
      "           4       0.74      0.61      0.66       802\n",
      "           5       0.66      0.64      0.65       744\n",
      "           6       0.85      0.89      0.87       821\n",
      "           7       0.49      0.70      0.58       914\n",
      "           8       0.61      0.58      0.60       789\n",
      "           9       0.51      0.41      0.46       847\n",
      "\n",
      "    accuracy                           0.70      8400\n",
      "   macro avg       0.70      0.69      0.69      8400\n",
      "weighted avg       0.70      0.70      0.69      8400\n",
      "\n"
     ]
    }
   ],
   "source": [
    "# Build neural network models\n",
    "activation_functions = ['tanh', 'logistic', 'relu']\n",
    "for activation_func in activation_functions:\n",
    "    # Build neural network model\n",
    "    nn_model = MLPClassifier(hidden_layer_sizes=(100,), activation=activation_func, max_iter=10000)\n",
    "    nn_model.fit(X_train_scaled, y_train)\n",
    "\n",
    "    # Make predictions on the test set\n",
    "    y_pred_nn = nn_model.predict(X_test_scaled)\n",
    "    \n",
    "    # Evaluate neural network model\n",
    "    accuracy_nn = accuracy_score(y_test, y_pred_nn)\n",
    "    print(f'Neural Network with {activation_func.capitalize()} Activation Accuracy: {accuracy_nn}')\n",
    "    print(f'Neural Network with {activation_func.capitalize()} Activation Classification Report:')\n",
    "    print(classification_report(y_test, y_pred_nn))\n",
    "\n",
    "    "
   ]
  },
  {
   "cell_type": "code",
   "execution_count": 36,
   "id": "743a01e7",
   "metadata": {},
   "outputs": [
    {
     "name": "stdout",
     "output_type": "stream",
     "text": [
      "                             0               1\n",
      "Model                      KNN  Neural Network\n",
      "Accuracy              0.657262        0.695119\n",
      "Precision (weighted)  0.655607        0.698404\n",
      "Recall (weighted)     0.657262        0.695119\n",
      "F1-Score (weighted)   0.652008        0.692509\n"
     ]
    }
   ],
   "source": [
    "# Evaluate models\n",
    "accuracy_knn = accuracy_score(y_test, y_pred_knn)\n",
    "accuracy_nn = accuracy_score(y_test, y_pred_nn)\n",
    "\n",
    "# Classification report metrics\n",
    "report_knn = classification_report(y_test, y_pred_knn, output_dict=True)\n",
    "report_nn = classification_report(y_test, y_pred_nn, output_dict=True)\n",
    "\n",
    "# Create a matrix with results\n",
    "results_matrix = pd.DataFrame({\n",
    "    'Model': ['KNN', 'Neural Network'],\n",
    "    'Accuracy': [accuracy_knn, accuracy_nn],\n",
    "    'Precision (weighted)': [report_knn['weighted avg']['precision'], report_nn['weighted avg']['precision']],\n",
    "    'Recall (weighted)': [report_knn['weighted avg']['recall'], report_nn['weighted avg']['recall']],\n",
    "    'F1-Score (weighted)': [report_knn['weighted avg']['f1-score'], report_nn['weighted avg']['f1-score']]\n",
    "})\n",
    "\n",
    "# Display the results matrix\n",
    "print(results_matrix.transpose())"
   ]
  },
  {
   "cell_type": "code",
   "execution_count": null,
   "id": "8aa17695",
   "metadata": {},
   "outputs": [],
   "source": []
  }
 ],
 "metadata": {
  "kernelspec": {
   "display_name": "Python 3 (ipykernel)",
   "language": "python",
   "name": "python3"
  },
  "language_info": {
   "codemirror_mode": {
    "name": "ipython",
    "version": 3
   },
   "file_extension": ".py",
   "mimetype": "text/x-python",
   "name": "python",
   "nbconvert_exporter": "python",
   "pygments_lexer": "ipython3",
   "version": "3.10.9"
  }
 },
 "nbformat": 4,
 "nbformat_minor": 5
}
